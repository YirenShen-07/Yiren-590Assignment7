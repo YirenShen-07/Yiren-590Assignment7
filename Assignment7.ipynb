{
  "cells": [
    {
      "cell_type": "markdown",
      "metadata": {
        "id": "view-in-github",
        "colab_type": "text"
      },
      "source": [
        "<a href=\"https://colab.research.google.com/github/YirenShen-07/Yiren-590Assignment7/blob/main/Assignment7.ipynb\" target=\"_parent\"><img src=\"https://colab.research.google.com/assets/colab-badge.svg\" alt=\"Open In Colab\"/></a>"
      ]
    },
    {
      "cell_type": "markdown",
      "metadata": {
        "id": "mtdb96t9vX43"
      },
      "source": [
        "# AIPI 590 - XAI | Assignment #07\n",
        "### Explainable Deep Learning in Predicting High-Value Retail Transactions\n",
        "The objective of the research is twofold: to establish that many properties of retail transactions support or inhibit the ability to predict high-value transactions with a deep learning model and how explainable AI techniques could reinforce that. Open to scrutiny, this research investigates whether the attention weights the model assigns to the feature of 'age' are significantly different from those assigned to other features such as gender, product category, month, and day of the week. The **Integrated Gradients** feature attribution method and the t-test to compare the relative importance of various features show that the model gives significantly different weightings to 'age' than to gender and product category. This experiment illustrates how these reasonable and interpretable deep learning techniques quantify the contribution of a number of features-a major step towards understanding model decisions in the retail sphere.\n",
        "\n",
        "### Yiren Shen\n",
        "\n",
        "#### Include the button below. Change the link to the location in your github repository:https://github.com/YirenShen-07/Yiren-590Assignment7/blob/main/Assignment7.ipynb"
      ]
    },
    {
      "cell_type": "markdown",
      "metadata": {
        "id": "ZnIYaeSZvX45"
      },
      "source": [
        "## DO:\n",
        "Develop a hypothesis and design a study using explainable deep learning methods to test your hypothesis. You can use any deep learning method discussed during the lecture: concept activation vectors, feature visualization, saliency maps, integrated gradients, or occlusion methods.\n",
        "\n",
        "\n",
        "\n",
        "Hypothesis must be in the form of a null/alternative hypothesis.\n",
        "\n",
        "\n",
        "\n",
        "Share your result as a visual report. This report can be in the form of a Google Colab, webpage, blog, or PDF and should contain the H0/H1 hypothesis, a brief explanation of the approach, the visualizations and/or explanations, and a summary of your findings. If Google Colab is not your medium of choice, please include source code as a link in your report.\n",
        "\n",
        "\n",
        "\n",
        "Note: You will NOT be graded on whether or not your null hypothesis was rejected, only on whether your experiments appropriately tested your hypothesis.\n",
        "\n",
        "(Here, I would use TCAV and statistical testing, see code demo in GitHub!)\n",
        "\n",
        "\n",
        "\n",
        "## Rubric:\n",
        "* Appropriate null and alternative hypotheses are formulated\n",
        "* Appropriate experiment(s) are designed to test the null hypothesis\n",
        "* Report includes a brief explanation of approach\n",
        "* Report includes source code (as a link or in the report itself)\n",
        "* Visualizations are clear, follow best practices, and has a clear caption/explanation\n",
        "* Visualizations support the conclusions\n",
        "* Report includes summary of findings\n",
        "* Code implementing the explanation techniques is clear and well documented\n",
        "* Visualizations are clear, follow best practices, and has a clear caption/explanation in the notebook markdown"
      ]
    },
    {
      "cell_type": "markdown",
      "source": [
        "# Hypotheses\n",
        "**Null Hypothesis (H0):** The deep neural network's attentional weighting of the **age** feature is not significantly different from the other features in predicting high-value transactions.\n",
        "\n",
        "**Alternative Hypothesis (H1):** The deep neural network's attentional weights on the **age** feature are significantly different from the other features in predicting high-value deals."
      ],
      "metadata": {
        "id": "toOtiiv1eZC8"
      }
    },
    {
      "cell_type": "code",
      "source": [
        "import csv\n",
        "import pandas as pd\n",
        "from google.colab import drive\n",
        "drive.mount('/content/drive')\n"
      ],
      "metadata": {
        "colab": {
          "base_uri": "https://localhost:8080/"
        },
        "id": "jqRzk7-q7_sF",
        "outputId": "da5bd067-6c25-4514-94d5-a172973fa459"
      },
      "execution_count": null,
      "outputs": [
        {
          "output_type": "stream",
          "name": "stdout",
          "text": [
            "Mounted at /content/drive\n"
          ]
        }
      ]
    },
    {
      "cell_type": "code",
      "source": [
        "df=\"/content/drive/MyDrive/RetailSales.csv\"\n",
        "df=pd.read_csv(df)\n",
        "df"
      ],
      "metadata": {
        "colab": {
          "base_uri": "https://localhost:8080/",
          "height": 424
        },
        "id": "MT_mVAZi9GFX",
        "outputId": "13b5982b-3c48-4bcd-9722-8cea8f56bb97"
      },
      "execution_count": null,
      "outputs": [
        {
          "output_type": "execute_result",
          "data": {
            "text/plain": [
              "     Transaction ID        Date Customer ID  Gender  Age Product Category  \\\n",
              "0                 1  2023-11-24     CUST001    Male   34           Beauty   \n",
              "1                 2  2023-02-27     CUST002  Female   26         Clothing   \n",
              "2                 3  2023-01-13     CUST003    Male   50      Electronics   \n",
              "3                 4  2023-05-21     CUST004    Male   37         Clothing   \n",
              "4                 5  2023-05-06     CUST005    Male   30           Beauty   \n",
              "..              ...         ...         ...     ...  ...              ...   \n",
              "995             996  2023-05-16     CUST996    Male   62         Clothing   \n",
              "996             997  2023-11-17     CUST997    Male   52           Beauty   \n",
              "997             998  2023-10-29     CUST998  Female   23           Beauty   \n",
              "998             999  2023-12-05     CUST999  Female   36      Electronics   \n",
              "999            1000  2023-04-12    CUST1000    Male   47      Electronics   \n",
              "\n",
              "     Quantity  Price per Unit  Total Amount  \n",
              "0           3              50           150  \n",
              "1           2             500          1000  \n",
              "2           1              30            30  \n",
              "3           1             500           500  \n",
              "4           2              50           100  \n",
              "..        ...             ...           ...  \n",
              "995         1              50            50  \n",
              "996         3              30            90  \n",
              "997         4              25           100  \n",
              "998         3              50           150  \n",
              "999         4              30           120  \n",
              "\n",
              "[1000 rows x 9 columns]"
            ],
            "text/html": [
              "\n",
              "  <div id=\"df-28ebe0d3-8c56-4922-8ef8-ddf6c1c0db7b\" class=\"colab-df-container\">\n",
              "    <div>\n",
              "<style scoped>\n",
              "    .dataframe tbody tr th:only-of-type {\n",
              "        vertical-align: middle;\n",
              "    }\n",
              "\n",
              "    .dataframe tbody tr th {\n",
              "        vertical-align: top;\n",
              "    }\n",
              "\n",
              "    .dataframe thead th {\n",
              "        text-align: right;\n",
              "    }\n",
              "</style>\n",
              "<table border=\"1\" class=\"dataframe\">\n",
              "  <thead>\n",
              "    <tr style=\"text-align: right;\">\n",
              "      <th></th>\n",
              "      <th>Transaction ID</th>\n",
              "      <th>Date</th>\n",
              "      <th>Customer ID</th>\n",
              "      <th>Gender</th>\n",
              "      <th>Age</th>\n",
              "      <th>Product Category</th>\n",
              "      <th>Quantity</th>\n",
              "      <th>Price per Unit</th>\n",
              "      <th>Total Amount</th>\n",
              "    </tr>\n",
              "  </thead>\n",
              "  <tbody>\n",
              "    <tr>\n",
              "      <th>0</th>\n",
              "      <td>1</td>\n",
              "      <td>2023-11-24</td>\n",
              "      <td>CUST001</td>\n",
              "      <td>Male</td>\n",
              "      <td>34</td>\n",
              "      <td>Beauty</td>\n",
              "      <td>3</td>\n",
              "      <td>50</td>\n",
              "      <td>150</td>\n",
              "    </tr>\n",
              "    <tr>\n",
              "      <th>1</th>\n",
              "      <td>2</td>\n",
              "      <td>2023-02-27</td>\n",
              "      <td>CUST002</td>\n",
              "      <td>Female</td>\n",
              "      <td>26</td>\n",
              "      <td>Clothing</td>\n",
              "      <td>2</td>\n",
              "      <td>500</td>\n",
              "      <td>1000</td>\n",
              "    </tr>\n",
              "    <tr>\n",
              "      <th>2</th>\n",
              "      <td>3</td>\n",
              "      <td>2023-01-13</td>\n",
              "      <td>CUST003</td>\n",
              "      <td>Male</td>\n",
              "      <td>50</td>\n",
              "      <td>Electronics</td>\n",
              "      <td>1</td>\n",
              "      <td>30</td>\n",
              "      <td>30</td>\n",
              "    </tr>\n",
              "    <tr>\n",
              "      <th>3</th>\n",
              "      <td>4</td>\n",
              "      <td>2023-05-21</td>\n",
              "      <td>CUST004</td>\n",
              "      <td>Male</td>\n",
              "      <td>37</td>\n",
              "      <td>Clothing</td>\n",
              "      <td>1</td>\n",
              "      <td>500</td>\n",
              "      <td>500</td>\n",
              "    </tr>\n",
              "    <tr>\n",
              "      <th>4</th>\n",
              "      <td>5</td>\n",
              "      <td>2023-05-06</td>\n",
              "      <td>CUST005</td>\n",
              "      <td>Male</td>\n",
              "      <td>30</td>\n",
              "      <td>Beauty</td>\n",
              "      <td>2</td>\n",
              "      <td>50</td>\n",
              "      <td>100</td>\n",
              "    </tr>\n",
              "    <tr>\n",
              "      <th>...</th>\n",
              "      <td>...</td>\n",
              "      <td>...</td>\n",
              "      <td>...</td>\n",
              "      <td>...</td>\n",
              "      <td>...</td>\n",
              "      <td>...</td>\n",
              "      <td>...</td>\n",
              "      <td>...</td>\n",
              "      <td>...</td>\n",
              "    </tr>\n",
              "    <tr>\n",
              "      <th>995</th>\n",
              "      <td>996</td>\n",
              "      <td>2023-05-16</td>\n",
              "      <td>CUST996</td>\n",
              "      <td>Male</td>\n",
              "      <td>62</td>\n",
              "      <td>Clothing</td>\n",
              "      <td>1</td>\n",
              "      <td>50</td>\n",
              "      <td>50</td>\n",
              "    </tr>\n",
              "    <tr>\n",
              "      <th>996</th>\n",
              "      <td>997</td>\n",
              "      <td>2023-11-17</td>\n",
              "      <td>CUST997</td>\n",
              "      <td>Male</td>\n",
              "      <td>52</td>\n",
              "      <td>Beauty</td>\n",
              "      <td>3</td>\n",
              "      <td>30</td>\n",
              "      <td>90</td>\n",
              "    </tr>\n",
              "    <tr>\n",
              "      <th>997</th>\n",
              "      <td>998</td>\n",
              "      <td>2023-10-29</td>\n",
              "      <td>CUST998</td>\n",
              "      <td>Female</td>\n",
              "      <td>23</td>\n",
              "      <td>Beauty</td>\n",
              "      <td>4</td>\n",
              "      <td>25</td>\n",
              "      <td>100</td>\n",
              "    </tr>\n",
              "    <tr>\n",
              "      <th>998</th>\n",
              "      <td>999</td>\n",
              "      <td>2023-12-05</td>\n",
              "      <td>CUST999</td>\n",
              "      <td>Female</td>\n",
              "      <td>36</td>\n",
              "      <td>Electronics</td>\n",
              "      <td>3</td>\n",
              "      <td>50</td>\n",
              "      <td>150</td>\n",
              "    </tr>\n",
              "    <tr>\n",
              "      <th>999</th>\n",
              "      <td>1000</td>\n",
              "      <td>2023-04-12</td>\n",
              "      <td>CUST1000</td>\n",
              "      <td>Male</td>\n",
              "      <td>47</td>\n",
              "      <td>Electronics</td>\n",
              "      <td>4</td>\n",
              "      <td>30</td>\n",
              "      <td>120</td>\n",
              "    </tr>\n",
              "  </tbody>\n",
              "</table>\n",
              "<p>1000 rows × 9 columns</p>\n",
              "</div>\n",
              "    <div class=\"colab-df-buttons\">\n",
              "\n",
              "  <div class=\"colab-df-container\">\n",
              "    <button class=\"colab-df-convert\" onclick=\"convertToInteractive('df-28ebe0d3-8c56-4922-8ef8-ddf6c1c0db7b')\"\n",
              "            title=\"Convert this dataframe to an interactive table.\"\n",
              "            style=\"display:none;\">\n",
              "\n",
              "  <svg xmlns=\"http://www.w3.org/2000/svg\" height=\"24px\" viewBox=\"0 -960 960 960\">\n",
              "    <path d=\"M120-120v-720h720v720H120Zm60-500h600v-160H180v160Zm220 220h160v-160H400v160Zm0 220h160v-160H400v160ZM180-400h160v-160H180v160Zm440 0h160v-160H620v160ZM180-180h160v-160H180v160Zm440 0h160v-160H620v160Z\"/>\n",
              "  </svg>\n",
              "    </button>\n",
              "\n",
              "  <style>\n",
              "    .colab-df-container {\n",
              "      display:flex;\n",
              "      gap: 12px;\n",
              "    }\n",
              "\n",
              "    .colab-df-convert {\n",
              "      background-color: #E8F0FE;\n",
              "      border: none;\n",
              "      border-radius: 50%;\n",
              "      cursor: pointer;\n",
              "      display: none;\n",
              "      fill: #1967D2;\n",
              "      height: 32px;\n",
              "      padding: 0 0 0 0;\n",
              "      width: 32px;\n",
              "    }\n",
              "\n",
              "    .colab-df-convert:hover {\n",
              "      background-color: #E2EBFA;\n",
              "      box-shadow: 0px 1px 2px rgba(60, 64, 67, 0.3), 0px 1px 3px 1px rgba(60, 64, 67, 0.15);\n",
              "      fill: #174EA6;\n",
              "    }\n",
              "\n",
              "    .colab-df-buttons div {\n",
              "      margin-bottom: 4px;\n",
              "    }\n",
              "\n",
              "    [theme=dark] .colab-df-convert {\n",
              "      background-color: #3B4455;\n",
              "      fill: #D2E3FC;\n",
              "    }\n",
              "\n",
              "    [theme=dark] .colab-df-convert:hover {\n",
              "      background-color: #434B5C;\n",
              "      box-shadow: 0px 1px 3px 1px rgba(0, 0, 0, 0.15);\n",
              "      filter: drop-shadow(0px 1px 2px rgba(0, 0, 0, 0.3));\n",
              "      fill: #FFFFFF;\n",
              "    }\n",
              "  </style>\n",
              "\n",
              "    <script>\n",
              "      const buttonEl =\n",
              "        document.querySelector('#df-28ebe0d3-8c56-4922-8ef8-ddf6c1c0db7b button.colab-df-convert');\n",
              "      buttonEl.style.display =\n",
              "        google.colab.kernel.accessAllowed ? 'block' : 'none';\n",
              "\n",
              "      async function convertToInteractive(key) {\n",
              "        const element = document.querySelector('#df-28ebe0d3-8c56-4922-8ef8-ddf6c1c0db7b');\n",
              "        const dataTable =\n",
              "          await google.colab.kernel.invokeFunction('convertToInteractive',\n",
              "                                                    [key], {});\n",
              "        if (!dataTable) return;\n",
              "\n",
              "        const docLinkHtml = 'Like what you see? Visit the ' +\n",
              "          '<a target=\"_blank\" href=https://colab.research.google.com/notebooks/data_table.ipynb>data table notebook</a>'\n",
              "          + ' to learn more about interactive tables.';\n",
              "        element.innerHTML = '';\n",
              "        dataTable['output_type'] = 'display_data';\n",
              "        await google.colab.output.renderOutput(dataTable, element);\n",
              "        const docLink = document.createElement('div');\n",
              "        docLink.innerHTML = docLinkHtml;\n",
              "        element.appendChild(docLink);\n",
              "      }\n",
              "    </script>\n",
              "  </div>\n",
              "\n",
              "\n",
              "<div id=\"df-13dd532c-345c-46b1-8d2c-a62185ccf303\">\n",
              "  <button class=\"colab-df-quickchart\" onclick=\"quickchart('df-13dd532c-345c-46b1-8d2c-a62185ccf303')\"\n",
              "            title=\"Suggest charts\"\n",
              "            style=\"display:none;\">\n",
              "\n",
              "<svg xmlns=\"http://www.w3.org/2000/svg\" height=\"24px\"viewBox=\"0 0 24 24\"\n",
              "     width=\"24px\">\n",
              "    <g>\n",
              "        <path d=\"M19 3H5c-1.1 0-2 .9-2 2v14c0 1.1.9 2 2 2h14c1.1 0 2-.9 2-2V5c0-1.1-.9-2-2-2zM9 17H7v-7h2v7zm4 0h-2V7h2v10zm4 0h-2v-4h2v4z\"/>\n",
              "    </g>\n",
              "</svg>\n",
              "  </button>\n",
              "\n",
              "<style>\n",
              "  .colab-df-quickchart {\n",
              "      --bg-color: #E8F0FE;\n",
              "      --fill-color: #1967D2;\n",
              "      --hover-bg-color: #E2EBFA;\n",
              "      --hover-fill-color: #174EA6;\n",
              "      --disabled-fill-color: #AAA;\n",
              "      --disabled-bg-color: #DDD;\n",
              "  }\n",
              "\n",
              "  [theme=dark] .colab-df-quickchart {\n",
              "      --bg-color: #3B4455;\n",
              "      --fill-color: #D2E3FC;\n",
              "      --hover-bg-color: #434B5C;\n",
              "      --hover-fill-color: #FFFFFF;\n",
              "      --disabled-bg-color: #3B4455;\n",
              "      --disabled-fill-color: #666;\n",
              "  }\n",
              "\n",
              "  .colab-df-quickchart {\n",
              "    background-color: var(--bg-color);\n",
              "    border: none;\n",
              "    border-radius: 50%;\n",
              "    cursor: pointer;\n",
              "    display: none;\n",
              "    fill: var(--fill-color);\n",
              "    height: 32px;\n",
              "    padding: 0;\n",
              "    width: 32px;\n",
              "  }\n",
              "\n",
              "  .colab-df-quickchart:hover {\n",
              "    background-color: var(--hover-bg-color);\n",
              "    box-shadow: 0 1px 2px rgba(60, 64, 67, 0.3), 0 1px 3px 1px rgba(60, 64, 67, 0.15);\n",
              "    fill: var(--button-hover-fill-color);\n",
              "  }\n",
              "\n",
              "  .colab-df-quickchart-complete:disabled,\n",
              "  .colab-df-quickchart-complete:disabled:hover {\n",
              "    background-color: var(--disabled-bg-color);\n",
              "    fill: var(--disabled-fill-color);\n",
              "    box-shadow: none;\n",
              "  }\n",
              "\n",
              "  .colab-df-spinner {\n",
              "    border: 2px solid var(--fill-color);\n",
              "    border-color: transparent;\n",
              "    border-bottom-color: var(--fill-color);\n",
              "    animation:\n",
              "      spin 1s steps(1) infinite;\n",
              "  }\n",
              "\n",
              "  @keyframes spin {\n",
              "    0% {\n",
              "      border-color: transparent;\n",
              "      border-bottom-color: var(--fill-color);\n",
              "      border-left-color: var(--fill-color);\n",
              "    }\n",
              "    20% {\n",
              "      border-color: transparent;\n",
              "      border-left-color: var(--fill-color);\n",
              "      border-top-color: var(--fill-color);\n",
              "    }\n",
              "    30% {\n",
              "      border-color: transparent;\n",
              "      border-left-color: var(--fill-color);\n",
              "      border-top-color: var(--fill-color);\n",
              "      border-right-color: var(--fill-color);\n",
              "    }\n",
              "    40% {\n",
              "      border-color: transparent;\n",
              "      border-right-color: var(--fill-color);\n",
              "      border-top-color: var(--fill-color);\n",
              "    }\n",
              "    60% {\n",
              "      border-color: transparent;\n",
              "      border-right-color: var(--fill-color);\n",
              "    }\n",
              "    80% {\n",
              "      border-color: transparent;\n",
              "      border-right-color: var(--fill-color);\n",
              "      border-bottom-color: var(--fill-color);\n",
              "    }\n",
              "    90% {\n",
              "      border-color: transparent;\n",
              "      border-bottom-color: var(--fill-color);\n",
              "    }\n",
              "  }\n",
              "</style>\n",
              "\n",
              "  <script>\n",
              "    async function quickchart(key) {\n",
              "      const quickchartButtonEl =\n",
              "        document.querySelector('#' + key + ' button');\n",
              "      quickchartButtonEl.disabled = true;  // To prevent multiple clicks.\n",
              "      quickchartButtonEl.classList.add('colab-df-spinner');\n",
              "      try {\n",
              "        const charts = await google.colab.kernel.invokeFunction(\n",
              "            'suggestCharts', [key], {});\n",
              "      } catch (error) {\n",
              "        console.error('Error during call to suggestCharts:', error);\n",
              "      }\n",
              "      quickchartButtonEl.classList.remove('colab-df-spinner');\n",
              "      quickchartButtonEl.classList.add('colab-df-quickchart-complete');\n",
              "    }\n",
              "    (() => {\n",
              "      let quickchartButtonEl =\n",
              "        document.querySelector('#df-13dd532c-345c-46b1-8d2c-a62185ccf303 button');\n",
              "      quickchartButtonEl.style.display =\n",
              "        google.colab.kernel.accessAllowed ? 'block' : 'none';\n",
              "    })();\n",
              "  </script>\n",
              "</div>\n",
              "\n",
              "  <div id=\"id_ae83ff04-96d9-44a0-a043-a9a47a30dc67\">\n",
              "    <style>\n",
              "      .colab-df-generate {\n",
              "        background-color: #E8F0FE;\n",
              "        border: none;\n",
              "        border-radius: 50%;\n",
              "        cursor: pointer;\n",
              "        display: none;\n",
              "        fill: #1967D2;\n",
              "        height: 32px;\n",
              "        padding: 0 0 0 0;\n",
              "        width: 32px;\n",
              "      }\n",
              "\n",
              "      .colab-df-generate:hover {\n",
              "        background-color: #E2EBFA;\n",
              "        box-shadow: 0px 1px 2px rgba(60, 64, 67, 0.3), 0px 1px 3px 1px rgba(60, 64, 67, 0.15);\n",
              "        fill: #174EA6;\n",
              "      }\n",
              "\n",
              "      [theme=dark] .colab-df-generate {\n",
              "        background-color: #3B4455;\n",
              "        fill: #D2E3FC;\n",
              "      }\n",
              "\n",
              "      [theme=dark] .colab-df-generate:hover {\n",
              "        background-color: #434B5C;\n",
              "        box-shadow: 0px 1px 3px 1px rgba(0, 0, 0, 0.15);\n",
              "        filter: drop-shadow(0px 1px 2px rgba(0, 0, 0, 0.3));\n",
              "        fill: #FFFFFF;\n",
              "      }\n",
              "    </style>\n",
              "    <button class=\"colab-df-generate\" onclick=\"generateWithVariable('df')\"\n",
              "            title=\"Generate code using this dataframe.\"\n",
              "            style=\"display:none;\">\n",
              "\n",
              "  <svg xmlns=\"http://www.w3.org/2000/svg\" height=\"24px\"viewBox=\"0 0 24 24\"\n",
              "       width=\"24px\">\n",
              "    <path d=\"M7,19H8.4L18.45,9,17,7.55,7,17.6ZM5,21V16.75L18.45,3.32a2,2,0,0,1,2.83,0l1.4,1.43a1.91,1.91,0,0,1,.58,1.4,1.91,1.91,0,0,1-.58,1.4L9.25,21ZM18.45,9,17,7.55Zm-12,3A5.31,5.31,0,0,0,4.9,8.1,5.31,5.31,0,0,0,1,6.5,5.31,5.31,0,0,0,4.9,4.9,5.31,5.31,0,0,0,6.5,1,5.31,5.31,0,0,0,8.1,4.9,5.31,5.31,0,0,0,12,6.5,5.46,5.46,0,0,0,6.5,12Z\"/>\n",
              "  </svg>\n",
              "    </button>\n",
              "    <script>\n",
              "      (() => {\n",
              "      const buttonEl =\n",
              "        document.querySelector('#id_ae83ff04-96d9-44a0-a043-a9a47a30dc67 button.colab-df-generate');\n",
              "      buttonEl.style.display =\n",
              "        google.colab.kernel.accessAllowed ? 'block' : 'none';\n",
              "\n",
              "      buttonEl.onclick = () => {\n",
              "        google.colab.notebook.generateWithVariable('df');\n",
              "      }\n",
              "      })();\n",
              "    </script>\n",
              "  </div>\n",
              "\n",
              "    </div>\n",
              "  </div>\n"
            ],
            "application/vnd.google.colaboratory.intrinsic+json": {
              "type": "dataframe",
              "variable_name": "df",
              "summary": "{\n  \"name\": \"df\",\n  \"rows\": 1000,\n  \"fields\": [\n    {\n      \"column\": \"Transaction ID\",\n      \"properties\": {\n        \"dtype\": \"number\",\n        \"std\": 288,\n        \"min\": 1,\n        \"max\": 1000,\n        \"num_unique_values\": 1000,\n        \"samples\": [\n          522,\n          738,\n          741\n        ],\n        \"semantic_type\": \"\",\n        \"description\": \"\"\n      }\n    },\n    {\n      \"column\": \"Date\",\n      \"properties\": {\n        \"dtype\": \"object\",\n        \"num_unique_values\": 345,\n        \"samples\": [\n          \"2023-04-04\",\n          \"2023-04-13\",\n          \"2023-04-15\"\n        ],\n        \"semantic_type\": \"\",\n        \"description\": \"\"\n      }\n    },\n    {\n      \"column\": \"Customer ID\",\n      \"properties\": {\n        \"dtype\": \"string\",\n        \"num_unique_values\": 1000,\n        \"samples\": [\n          \"CUST522\",\n          \"CUST738\",\n          \"CUST741\"\n        ],\n        \"semantic_type\": \"\",\n        \"description\": \"\"\n      }\n    },\n    {\n      \"column\": \"Gender\",\n      \"properties\": {\n        \"dtype\": \"category\",\n        \"num_unique_values\": 2,\n        \"samples\": [\n          \"Female\",\n          \"Male\"\n        ],\n        \"semantic_type\": \"\",\n        \"description\": \"\"\n      }\n    },\n    {\n      \"column\": \"Age\",\n      \"properties\": {\n        \"dtype\": \"number\",\n        \"std\": 13,\n        \"min\": 18,\n        \"max\": 64,\n        \"num_unique_values\": 47,\n        \"samples\": [\n          48,\n          61\n        ],\n        \"semantic_type\": \"\",\n        \"description\": \"\"\n      }\n    },\n    {\n      \"column\": \"Product Category\",\n      \"properties\": {\n        \"dtype\": \"category\",\n        \"num_unique_values\": 3,\n        \"samples\": [\n          \"Beauty\",\n          \"Clothing\"\n        ],\n        \"semantic_type\": \"\",\n        \"description\": \"\"\n      }\n    },\n    {\n      \"column\": \"Quantity\",\n      \"properties\": {\n        \"dtype\": \"number\",\n        \"std\": 1,\n        \"min\": 1,\n        \"max\": 4,\n        \"num_unique_values\": 4,\n        \"samples\": [\n          2,\n          4\n        ],\n        \"semantic_type\": \"\",\n        \"description\": \"\"\n      }\n    },\n    {\n      \"column\": \"Price per Unit\",\n      \"properties\": {\n        \"dtype\": \"number\",\n        \"std\": 189,\n        \"min\": 25,\n        \"max\": 500,\n        \"num_unique_values\": 5,\n        \"samples\": [\n          500,\n          300\n        ],\n        \"semantic_type\": \"\",\n        \"description\": \"\"\n      }\n    },\n    {\n      \"column\": \"Total Amount\",\n      \"properties\": {\n        \"dtype\": \"number\",\n        \"std\": 559,\n        \"min\": 25,\n        \"max\": 2000,\n        \"num_unique_values\": 18,\n        \"samples\": [\n          150,\n          1000\n        ],\n        \"semantic_type\": \"\",\n        \"description\": \"\"\n      }\n    }\n  ]\n}"
            }
          },
          "metadata": {},
          "execution_count": 3
        }
      ]
    },
    {
      "cell_type": "markdown",
      "source": [
        "**Dataset:** The dataset contains retail transaction records with features like gender, age, product category, month, and day of the week. The target variable is whether the transaction is high-value (i.e., total amount > 500)."
      ],
      "metadata": {
        "id": "CfyONzrcgN-e"
      }
    },
    {
      "cell_type": "code",
      "source": [
        "!pip install tensorflow pandas numpy scikit-learn matplotlib seaborn"
      ],
      "metadata": {
        "colab": {
          "base_uri": "https://localhost:8080/"
        },
        "id": "mX6afg1ZN9rU",
        "outputId": "e12d946c-88eb-4145-f0e5-dbaa99bd2b39"
      },
      "execution_count": null,
      "outputs": [
        {
          "output_type": "stream",
          "name": "stdout",
          "text": [
            "Requirement already satisfied: tensorflow in /usr/local/lib/python3.10/dist-packages (2.17.0)\n",
            "Requirement already satisfied: pandas in /usr/local/lib/python3.10/dist-packages (2.2.2)\n",
            "Requirement already satisfied: numpy in /usr/local/lib/python3.10/dist-packages (1.26.4)\n",
            "Requirement already satisfied: scikit-learn in /usr/local/lib/python3.10/dist-packages (1.5.2)\n",
            "Requirement already satisfied: matplotlib in /usr/local/lib/python3.10/dist-packages (3.7.1)\n",
            "Requirement already satisfied: seaborn in /usr/local/lib/python3.10/dist-packages (0.13.2)\n",
            "Requirement already satisfied: absl-py>=1.0.0 in /usr/local/lib/python3.10/dist-packages (from tensorflow) (1.4.0)\n",
            "Requirement already satisfied: astunparse>=1.6.0 in /usr/local/lib/python3.10/dist-packages (from tensorflow) (1.6.3)\n",
            "Requirement already satisfied: flatbuffers>=24.3.25 in /usr/local/lib/python3.10/dist-packages (from tensorflow) (24.3.25)\n",
            "Requirement already satisfied: gast!=0.5.0,!=0.5.1,!=0.5.2,>=0.2.1 in /usr/local/lib/python3.10/dist-packages (from tensorflow) (0.6.0)\n",
            "Requirement already satisfied: google-pasta>=0.1.1 in /usr/local/lib/python3.10/dist-packages (from tensorflow) (0.2.0)\n",
            "Requirement already satisfied: h5py>=3.10.0 in /usr/local/lib/python3.10/dist-packages (from tensorflow) (3.11.0)\n",
            "Requirement already satisfied: libclang>=13.0.0 in /usr/local/lib/python3.10/dist-packages (from tensorflow) (18.1.1)\n",
            "Requirement already satisfied: ml-dtypes<0.5.0,>=0.3.1 in /usr/local/lib/python3.10/dist-packages (from tensorflow) (0.4.1)\n",
            "Requirement already satisfied: opt-einsum>=2.3.2 in /usr/local/lib/python3.10/dist-packages (from tensorflow) (3.4.0)\n",
            "Requirement already satisfied: packaging in /usr/local/lib/python3.10/dist-packages (from tensorflow) (24.1)\n",
            "Requirement already satisfied: protobuf!=4.21.0,!=4.21.1,!=4.21.2,!=4.21.3,!=4.21.4,!=4.21.5,<5.0.0dev,>=3.20.3 in /usr/local/lib/python3.10/dist-packages (from tensorflow) (3.20.3)\n",
            "Requirement already satisfied: requests<3,>=2.21.0 in /usr/local/lib/python3.10/dist-packages (from tensorflow) (2.32.3)\n",
            "Requirement already satisfied: setuptools in /usr/local/lib/python3.10/dist-packages (from tensorflow) (75.1.0)\n",
            "Requirement already satisfied: six>=1.12.0 in /usr/local/lib/python3.10/dist-packages (from tensorflow) (1.16.0)\n",
            "Requirement already satisfied: termcolor>=1.1.0 in /usr/local/lib/python3.10/dist-packages (from tensorflow) (2.5.0)\n",
            "Requirement already satisfied: typing-extensions>=3.6.6 in /usr/local/lib/python3.10/dist-packages (from tensorflow) (4.12.2)\n",
            "Requirement already satisfied: wrapt>=1.11.0 in /usr/local/lib/python3.10/dist-packages (from tensorflow) (1.16.0)\n",
            "Requirement already satisfied: grpcio<2.0,>=1.24.3 in /usr/local/lib/python3.10/dist-packages (from tensorflow) (1.64.1)\n",
            "Requirement already satisfied: tensorboard<2.18,>=2.17 in /usr/local/lib/python3.10/dist-packages (from tensorflow) (2.17.0)\n",
            "Requirement already satisfied: keras>=3.2.0 in /usr/local/lib/python3.10/dist-packages (from tensorflow) (3.4.1)\n",
            "Requirement already satisfied: tensorflow-io-gcs-filesystem>=0.23.1 in /usr/local/lib/python3.10/dist-packages (from tensorflow) (0.37.1)\n",
            "Requirement already satisfied: python-dateutil>=2.8.2 in /usr/local/lib/python3.10/dist-packages (from pandas) (2.8.2)\n",
            "Requirement already satisfied: pytz>=2020.1 in /usr/local/lib/python3.10/dist-packages (from pandas) (2024.2)\n",
            "Requirement already satisfied: tzdata>=2022.7 in /usr/local/lib/python3.10/dist-packages (from pandas) (2024.2)\n",
            "Requirement already satisfied: scipy>=1.6.0 in /usr/local/lib/python3.10/dist-packages (from scikit-learn) (1.13.1)\n",
            "Requirement already satisfied: joblib>=1.2.0 in /usr/local/lib/python3.10/dist-packages (from scikit-learn) (1.4.2)\n",
            "Requirement already satisfied: threadpoolctl>=3.1.0 in /usr/local/lib/python3.10/dist-packages (from scikit-learn) (3.5.0)\n",
            "Requirement already satisfied: contourpy>=1.0.1 in /usr/local/lib/python3.10/dist-packages (from matplotlib) (1.3.0)\n",
            "Requirement already satisfied: cycler>=0.10 in /usr/local/lib/python3.10/dist-packages (from matplotlib) (0.12.1)\n",
            "Requirement already satisfied: fonttools>=4.22.0 in /usr/local/lib/python3.10/dist-packages (from matplotlib) (4.54.1)\n",
            "Requirement already satisfied: kiwisolver>=1.0.1 in /usr/local/lib/python3.10/dist-packages (from matplotlib) (1.4.7)\n",
            "Requirement already satisfied: pillow>=6.2.0 in /usr/local/lib/python3.10/dist-packages (from matplotlib) (10.4.0)\n",
            "Requirement already satisfied: pyparsing>=2.3.1 in /usr/local/lib/python3.10/dist-packages (from matplotlib) (3.2.0)\n",
            "Requirement already satisfied: wheel<1.0,>=0.23.0 in /usr/local/lib/python3.10/dist-packages (from astunparse>=1.6.0->tensorflow) (0.44.0)\n",
            "Requirement already satisfied: rich in /usr/local/lib/python3.10/dist-packages (from keras>=3.2.0->tensorflow) (13.9.2)\n",
            "Requirement already satisfied: namex in /usr/local/lib/python3.10/dist-packages (from keras>=3.2.0->tensorflow) (0.0.8)\n",
            "Requirement already satisfied: optree in /usr/local/lib/python3.10/dist-packages (from keras>=3.2.0->tensorflow) (0.13.0)\n",
            "Requirement already satisfied: charset-normalizer<4,>=2 in /usr/local/lib/python3.10/dist-packages (from requests<3,>=2.21.0->tensorflow) (3.4.0)\n",
            "Requirement already satisfied: idna<4,>=2.5 in /usr/local/lib/python3.10/dist-packages (from requests<3,>=2.21.0->tensorflow) (3.10)\n",
            "Requirement already satisfied: urllib3<3,>=1.21.1 in /usr/local/lib/python3.10/dist-packages (from requests<3,>=2.21.0->tensorflow) (2.2.3)\n",
            "Requirement already satisfied: certifi>=2017.4.17 in /usr/local/lib/python3.10/dist-packages (from requests<3,>=2.21.0->tensorflow) (2024.8.30)\n",
            "Requirement already satisfied: markdown>=2.6.8 in /usr/local/lib/python3.10/dist-packages (from tensorboard<2.18,>=2.17->tensorflow) (3.7)\n",
            "Requirement already satisfied: tensorboard-data-server<0.8.0,>=0.7.0 in /usr/local/lib/python3.10/dist-packages (from tensorboard<2.18,>=2.17->tensorflow) (0.7.2)\n",
            "Requirement already satisfied: werkzeug>=1.0.1 in /usr/local/lib/python3.10/dist-packages (from tensorboard<2.18,>=2.17->tensorflow) (3.0.4)\n",
            "Requirement already satisfied: MarkupSafe>=2.1.1 in /usr/local/lib/python3.10/dist-packages (from werkzeug>=1.0.1->tensorboard<2.18,>=2.17->tensorflow) (3.0.2)\n",
            "Requirement already satisfied: markdown-it-py>=2.2.0 in /usr/local/lib/python3.10/dist-packages (from rich->keras>=3.2.0->tensorflow) (3.0.0)\n",
            "Requirement already satisfied: pygments<3.0.0,>=2.13.0 in /usr/local/lib/python3.10/dist-packages (from rich->keras>=3.2.0->tensorflow) (2.18.0)\n",
            "Requirement already satisfied: mdurl~=0.1 in /usr/local/lib/python3.10/dist-packages (from markdown-it-py>=2.2.0->rich->keras>=3.2.0->tensorflow) (0.1.2)\n"
          ]
        }
      ]
    },
    {
      "cell_type": "markdown",
      "source": [
        "# Data Preprocessing"
      ],
      "metadata": {
        "id": "8Q1SFNtSxi_q"
      }
    },
    {
      "cell_type": "code",
      "source": [
        "import tensorflow as tf\n",
        "import pandas as pd\n",
        "import numpy as np\n",
        "from sklearn.model_selection import train_test_split\n",
        "from sklearn.preprocessing import StandardScaler, LabelEncoder\n",
        "import matplotlib.pyplot as plt\n",
        "import seaborn as sns\n",
        "from google.colab import files\n",
        "import io"
      ],
      "metadata": {
        "id": "gvUtHa_RJmOX"
      },
      "execution_count": null,
      "outputs": []
    },
    {
      "cell_type": "markdown",
      "source": [
        "**Pre-processing of retail sales data:** Convert the raw data into a format acceptable to the model. The main steps include date extraction, category coding, target variable creation, feature selection, and normalization to ensure that the data is suitable for use in deep learning model training and interpretive analysis. Ultimately, the normalized features, target variables, and feature column names are returned, ready for subsequent model construction and analysis."
      ],
      "metadata": {
        "id": "edLzLPhahLZK"
      }
    },
    {
      "cell_type": "code",
      "source": [
        "# Data Preprocessing Function\n",
        "def preprocess_data(df):\n",
        "    # Convert Date to datetime\n",
        "    df['Date'] = pd.to_datetime(df['Date'])\n",
        "    df['Month'] = df['Date'].dt.month\n",
        "    df['DayOfWeek'] = df['Date'].dt.dayofweek\n",
        "\n",
        "    # Label encode categorical variables\n",
        "    le_gender = LabelEncoder()\n",
        "    le_category = LabelEncoder()\n",
        "    df['Gender'] = le_gender.fit_transform(df['Gender'])\n",
        "    df['Product_Category'] = le_category.fit_transform(df['Product Category'])\n",
        "\n",
        "    # Create target variable\n",
        "    df['HighValue'] = (df['Total Amount'] > 500).astype(int)\n",
        "\n",
        "    # Select features for model\n",
        "    feature_columns = ['Gender', 'Age', 'Product_Category', 'Month', 'DayOfWeek']\n",
        "    X = df[feature_columns].values\n",
        "    y = df['HighValue'].values\n",
        "\n",
        "    # Scale features\n",
        "    scaler = StandardScaler()\n",
        "    X_scaled = scaler.fit_transform(X)\n",
        "\n",
        "    # Split into training and test sets\n",
        "    X_train, X_test, y_train, y_test = train_test_split(\n",
        "        X_scaled, y, test_size=0.2, random_state=42\n",
        "    )\n",
        "\n",
        "    return X_train, X_test, y_train, y_test, feature_columns\n",
        "\n",
        "# Load dataset and preprocess data\n",
        "X_train, X_test, y_train, y_test, feature_columns = preprocess_data(df)\n",
        "\n",
        "# Print column names before processing\n",
        "print(\"\\nAvailable columns in dataset:\")\n",
        "print(df.columns.tolist())\n"
      ],
      "metadata": {
        "colab": {
          "base_uri": "https://localhost:8080/"
        },
        "id": "in2fCkr9OWWN",
        "outputId": "02de294f-6f2e-41ee-d45d-4e2ce9830662"
      },
      "execution_count": null,
      "outputs": [
        {
          "output_type": "stream",
          "name": "stdout",
          "text": [
            "\n",
            "Available columns in dataset:\n",
            "['Transaction ID', 'Date', 'Customer ID', 'Gender', 'Age', 'Product Category', 'Quantity', 'Price per Unit', 'Total Amount', 'Month', 'DayOfWeek', 'Product_Category', 'HighValue']\n"
          ]
        }
      ]
    },
    {
      "cell_type": "markdown",
      "source": [
        "The output shows the results of the data preprocessing, including the column names of the original dataset, the five features selected for use in the model, and the shapes of the processed features and target variables. This indicates that the data has been successfully converted into a format acceptable to the model and is ready for model training and analysis."
      ],
      "metadata": {
        "id": "2Ro87mQUiC6C"
      }
    },
    {
      "cell_type": "markdown",
      "source": [
        "# Integrated Gradients\n",
        "\n",
        "By calculating the integrated gradient, the contribution of each feature can be obtained and compared with the “age” feature to help test the original hypothesis (H0) or alternative hypothesis (H1).\n",
        "\n",
        "The importance of the features provided by the integrated gradient is used as input, and combined with statistical tests, you can determine which features have significantly different weights than the “age” feature, and conclude whether to reject the original hypothesis."
      ],
      "metadata": {
        "id": "lWQB2Eh8kFfB"
      }
    },
    {
      "cell_type": "markdown",
      "source": [
        "## Integrated Gradients Implementation"
      ],
      "metadata": {
        "id": "MR-MaHGfyREJ"
      }
    },
    {
      "cell_type": "code",
      "source": [
        "# Step1: Interpolate Inputs\n",
        "def interpolate_inputs(baseline, inputs, m_steps):\n",
        "    # Convert inputs to float32\n",
        "    baseline = tf.cast(baseline, tf.float32)\n",
        "    inputs = tf.cast(inputs, tf.float32)\n",
        "\n",
        "    alphas = tf.linspace(0.0, 1.0, m_steps+1)\n",
        "    alphas_x = tf.cast(alphas[:, tf.newaxis], tf.float32)\n",
        "\n",
        "    baseline_x = tf.expand_dims(baseline, axis=0)\n",
        "    input_x = tf.expand_dims(inputs, axis=0)\n",
        "\n",
        "    delta = input_x - baseline_x\n",
        "    interpolated = baseline_x + alphas_x * delta\n",
        "\n",
        "    return interpolated\n",
        "\n",
        "# Step2: Compute Gradients\n",
        "def compute_gradients(model, inputs):\n",
        "    with tf.GradientTape() as tape:\n",
        "        inputs = tf.cast(inputs, tf.float32)\n",
        "        tape.watch(inputs)\n",
        "        outputs = model(inputs)\n",
        "    return tape.gradient(outputs, inputs)\n",
        "\n",
        "# Step3: Integrated Gradients Calculation\n",
        "def integrated_gradients(model, baseline, inputs, m_steps=50):\n",
        "    interpolated = interpolate_inputs(baseline, inputs, m_steps)\n",
        "    grads = compute_gradients(model, interpolated)\n",
        "\n",
        "    # Ensure consistent data types\n",
        "    grads = tf.cast(grads, tf.float32)\n",
        "    baseline = tf.cast(baseline, tf.float32)\n",
        "    inputs = tf.cast(inputs, tf.float32)\n",
        "\n",
        "    integrated_grads = (inputs - baseline) * tf.reduce_mean(grads, axis=0)\n",
        "    return integrated_grads"
      ],
      "metadata": {
        "id": "iYril7VLSAgb"
      },
      "execution_count": null,
      "outputs": []
    },
    {
      "cell_type": "markdown",
      "source": [
        "**Step1 Purpose:** To generate a number of interpolated samples between baseline and actual inputs.\n",
        "\n",
        "**Step2 Purpose:** To calculate the gradient (sensitivity) of the model's output to the input on each interpolated sample.\n",
        "\n",
        "**Step3 Purpose:** To measure the contribution of input features to the model output by interpolating the average gradient of the samples.\n",
        "\n",
        "I use **Integrated Gradients** to gain insights into the features (e.g., gender, age, product category) that exert a substantial influence on the model's decision, indicating how each feature contributes to the prediction outcome. It provides clear insight into the importance of the features while keeping an eye on whether or not the behavior of the model is compliant with business expectations regarding retail analytics.\n",
        "\n"
      ],
      "metadata": {
        "id": "6V8qKQ02umIR"
      }
    },
    {
      "cell_type": "markdown",
      "source": [
        "## Feature Importance Analysis"
      ],
      "metadata": {
        "id": "wxuepMzkyYpn"
      }
    },
    {
      "cell_type": "code",
      "source": [
        "def analyze_feature_importance(model, X_test, feature_names):\n",
        "    # Convert to float32\n",
        "    X_test = tf.cast(X_test, tf.float32)\n",
        "    baseline = tf.cast(tf.reduce_mean(X_test, axis=0), tf.float32)\n",
        "    #  Calculate feature attribution\n",
        "    attributions = []\n",
        "    for x in X_test:\n",
        "        ig = integrated_gradients(model, baseline, x)\n",
        "        attributions.append(ig.numpy())\n",
        "\n",
        "    mean_attributions = np.mean(np.abs(attributions), axis=0)\n",
        "    # Create the feature importance data frame\n",
        "    importance_df = pd.DataFrame({\n",
        "        'Feature': feature_names,\n",
        "        'Importance': mean_attributions\n",
        "    })\n",
        "\n",
        "    return importance_df, attributions"
      ],
      "metadata": {
        "id": "qebqAZc3SJG2"
      },
      "execution_count": null,
      "outputs": []
    },
    {
      "cell_type": "markdown",
      "source": [
        " By integrating the gradient approach, it quantifies and displays the model's attention on each input feature, thus revealing the extent of the model's dependence on different features. It helps to explain the decision making process of the model and makes the model more interpretable"
      ],
      "metadata": {
        "id": "ELCqJA8axU1Z"
      }
    },
    {
      "cell_type": "markdown",
      "source": [
        "# Model\n",
        "Create, train deep learning models and show the importance of features through visualization. It is divided into three parts: model creation, model training and feature importance analysis."
      ],
      "metadata": {
        "id": "B_d9UJCFzhB4"
      }
    },
    {
      "cell_type": "code",
      "source": [
        "# Model Creation\n",
        "def create_model(input_dim):\n",
        "    model = tf.keras.Sequential([\n",
        "        tf.keras.layers.Dense(64, activation='relu', input_shape=(input_dim,), dtype=tf.float32),\n",
        "        tf.keras.layers.Dropout(0.2),\n",
        "        tf.keras.layers.Dense(32, activation='relu', dtype=tf.float32),\n",
        "        tf.keras.layers.Dropout(0.2),\n",
        "        tf.keras.layers.Dense(16, activation='relu', dtype=tf.float32),\n",
        "        tf.keras.layers.Dense(1, activation='sigmoid', dtype=tf.float32)\n",
        "    ])\n",
        "\n",
        "    model.compile(optimizer='adam',\n",
        "                 loss='binary_crossentropy',\n",
        "                 metrics=['accuracy'])\n",
        "    return model\n",
        "\n",
        "# Model Training\n",
        "# Convert data to float32 before training\n",
        "X_train = tf.cast(X_train, tf.float32)\n",
        "X_test = tf.cast(X_test, tf.float32)\n",
        "y_train = tf.cast(y_train, tf.float32)\n",
        "y_test = tf.cast(y_test, tf.float32)\n",
        "\n",
        "model = create_model(X_train.shape[1])\n",
        "history = model.fit(\n",
        "    X_train, y_train,\n",
        "    epochs=50,\n",
        "    batch_size=32,\n",
        "    validation_split=0.2,\n",
        "    verbose=1\n",
        ")\n",
        "importance_df, attributions = analyze_feature_importance(model, X_test, feature_columns)\n",
        "\n",
        "# Visualization\n",
        "plt.figure(figsize=(10, 6))\n",
        "sns.barplot(data=importance_df, x='Importance', y='Feature')\n",
        "plt.title('Feature Importance Based on Integrated Gradients')\n",
        "plt.xlabel('Average Absolute Attribution')\n",
        "plt.tight_layout()\n",
        "plt.show()"
      ],
      "metadata": {
        "colab": {
          "base_uri": "https://localhost:8080/",
          "height": 1000
        },
        "id": "wBBehhb4SlsC",
        "outputId": "b70a63d7-5cd7-4790-ea5d-44d44685fc9b"
      },
      "execution_count": null,
      "outputs": [
        {
          "output_type": "stream",
          "name": "stderr",
          "text": [
            "/usr/local/lib/python3.10/dist-packages/keras/src/layers/core/dense.py:87: UserWarning: Do not pass an `input_shape`/`input_dim` argument to a layer. When using Sequential models, prefer using an `Input(shape)` object as the first layer in the model instead.\n",
            "  super().__init__(activity_regularizer=activity_regularizer, **kwargs)\n"
          ]
        },
        {
          "output_type": "stream",
          "name": "stdout",
          "text": [
            "Epoch 1/50\n",
            "\u001b[1m20/20\u001b[0m \u001b[32m━━━━━━━━━━━━━━━━━━━━\u001b[0m\u001b[37m\u001b[0m \u001b[1m3s\u001b[0m 15ms/step - accuracy: 0.5188 - loss: 0.6997 - val_accuracy: 0.6687 - val_loss: 0.6469\n",
            "Epoch 2/50\n",
            "\u001b[1m20/20\u001b[0m \u001b[32m━━━━━━━━━━━━━━━━━━━━\u001b[0m\u001b[37m\u001b[0m \u001b[1m0s\u001b[0m 4ms/step - accuracy: 0.6944 - loss: 0.6328 - val_accuracy: 0.6687 - val_loss: 0.6398\n",
            "Epoch 3/50\n",
            "\u001b[1m20/20\u001b[0m \u001b[32m━━━━━━━━━━━━━━━━━━━━\u001b[0m\u001b[37m\u001b[0m \u001b[1m0s\u001b[0m 4ms/step - accuracy: 0.7011 - loss: 0.6145 - val_accuracy: 0.6687 - val_loss: 0.6413\n",
            "Epoch 4/50\n",
            "\u001b[1m20/20\u001b[0m \u001b[32m━━━━━━━━━━━━━━━━━━━━\u001b[0m\u001b[37m\u001b[0m \u001b[1m0s\u001b[0m 4ms/step - accuracy: 0.7274 - loss: 0.5922 - val_accuracy: 0.6687 - val_loss: 0.6453\n",
            "Epoch 5/50\n",
            "\u001b[1m20/20\u001b[0m \u001b[32m━━━━━━━━━━━━━━━━━━━━\u001b[0m\u001b[37m\u001b[0m \u001b[1m0s\u001b[0m 4ms/step - accuracy: 0.7074 - loss: 0.6134 - val_accuracy: 0.6687 - val_loss: 0.6455\n",
            "Epoch 6/50\n",
            "\u001b[1m20/20\u001b[0m \u001b[32m━━━━━━━━━━━━━━━━━━━━\u001b[0m\u001b[37m\u001b[0m \u001b[1m0s\u001b[0m 7ms/step - accuracy: 0.6959 - loss: 0.6139 - val_accuracy: 0.6687 - val_loss: 0.6507\n",
            "Epoch 7/50\n",
            "\u001b[1m20/20\u001b[0m \u001b[32m━━━━━━━━━━━━━━━━━━━━\u001b[0m\u001b[37m\u001b[0m \u001b[1m0s\u001b[0m 7ms/step - accuracy: 0.7076 - loss: 0.6005 - val_accuracy: 0.6687 - val_loss: 0.6560\n",
            "Epoch 8/50\n",
            "\u001b[1m20/20\u001b[0m \u001b[32m━━━━━━━━━━━━━━━━━━━━\u001b[0m\u001b[37m\u001b[0m \u001b[1m0s\u001b[0m 6ms/step - accuracy: 0.7367 - loss: 0.5838 - val_accuracy: 0.6687 - val_loss: 0.6562\n",
            "Epoch 9/50\n",
            "\u001b[1m20/20\u001b[0m \u001b[32m━━━━━━━━━━━━━━━━━━━━\u001b[0m\u001b[37m\u001b[0m \u001b[1m0s\u001b[0m 6ms/step - accuracy: 0.7024 - loss: 0.6053 - val_accuracy: 0.6687 - val_loss: 0.6568\n",
            "Epoch 10/50\n",
            "\u001b[1m20/20\u001b[0m \u001b[32m━━━━━━━━━━━━━━━━━━━━\u001b[0m\u001b[37m\u001b[0m \u001b[1m0s\u001b[0m 6ms/step - accuracy: 0.7111 - loss: 0.5883 - val_accuracy: 0.6687 - val_loss: 0.6552\n",
            "Epoch 11/50\n",
            "\u001b[1m20/20\u001b[0m \u001b[32m━━━━━━━━━━━━━━━━━━━━\u001b[0m\u001b[37m\u001b[0m \u001b[1m0s\u001b[0m 7ms/step - accuracy: 0.7152 - loss: 0.5989 - val_accuracy: 0.6625 - val_loss: 0.6604\n",
            "Epoch 12/50\n",
            "\u001b[1m20/20\u001b[0m \u001b[32m━━━━━━━━━━━━━━━━━━━━\u001b[0m\u001b[37m\u001b[0m \u001b[1m0s\u001b[0m 5ms/step - accuracy: 0.7380 - loss: 0.5687 - val_accuracy: 0.6625 - val_loss: 0.6642\n",
            "Epoch 13/50\n",
            "\u001b[1m20/20\u001b[0m \u001b[32m━━━━━━━━━━━━━━━━━━━━\u001b[0m\u001b[37m\u001b[0m \u001b[1m0s\u001b[0m 6ms/step - accuracy: 0.7004 - loss: 0.6050 - val_accuracy: 0.6562 - val_loss: 0.6625\n",
            "Epoch 14/50\n",
            "\u001b[1m20/20\u001b[0m \u001b[32m━━━━━━━━━━━━━━━━━━━━\u001b[0m\u001b[37m\u001b[0m \u001b[1m0s\u001b[0m 7ms/step - accuracy: 0.7147 - loss: 0.5935 - val_accuracy: 0.6625 - val_loss: 0.6654\n",
            "Epoch 15/50\n",
            "\u001b[1m20/20\u001b[0m \u001b[32m━━━━━━━━━━━━━━━━━━━━\u001b[0m\u001b[37m\u001b[0m \u001b[1m0s\u001b[0m 6ms/step - accuracy: 0.7208 - loss: 0.5861 - val_accuracy: 0.6625 - val_loss: 0.6664\n",
            "Epoch 16/50\n",
            "\u001b[1m20/20\u001b[0m \u001b[32m━━━━━━━━━━━━━━━━━━━━\u001b[0m\u001b[37m\u001b[0m \u001b[1m0s\u001b[0m 6ms/step - accuracy: 0.7056 - loss: 0.6164 - val_accuracy: 0.6625 - val_loss: 0.6632\n",
            "Epoch 17/50\n",
            "\u001b[1m20/20\u001b[0m \u001b[32m━━━━━━━━━━━━━━━━━━━━\u001b[0m\u001b[37m\u001b[0m \u001b[1m0s\u001b[0m 7ms/step - accuracy: 0.7223 - loss: 0.5899 - val_accuracy: 0.6625 - val_loss: 0.6671\n",
            "Epoch 18/50\n",
            "\u001b[1m20/20\u001b[0m \u001b[32m━━━━━━━━━━━━━━━━━━━━\u001b[0m\u001b[37m\u001b[0m \u001b[1m0s\u001b[0m 7ms/step - accuracy: 0.7162 - loss: 0.5856 - val_accuracy: 0.6562 - val_loss: 0.6674\n",
            "Epoch 19/50\n",
            "\u001b[1m20/20\u001b[0m \u001b[32m━━━━━━━━━━━━━━━━━━━━\u001b[0m\u001b[37m\u001b[0m \u001b[1m0s\u001b[0m 6ms/step - accuracy: 0.7273 - loss: 0.5808 - val_accuracy: 0.6625 - val_loss: 0.6711\n",
            "Epoch 20/50\n",
            "\u001b[1m20/20\u001b[0m \u001b[32m━━━━━━━━━━━━━━━━━━━━\u001b[0m\u001b[37m\u001b[0m \u001b[1m0s\u001b[0m 6ms/step - accuracy: 0.7005 - loss: 0.5833 - val_accuracy: 0.6562 - val_loss: 0.6742\n",
            "Epoch 21/50\n",
            "\u001b[1m20/20\u001b[0m \u001b[32m━━━━━━━━━━━━━━━━━━━━\u001b[0m\u001b[37m\u001b[0m \u001b[1m0s\u001b[0m 4ms/step - accuracy: 0.7477 - loss: 0.5702 - val_accuracy: 0.6625 - val_loss: 0.6728\n",
            "Epoch 22/50\n",
            "\u001b[1m20/20\u001b[0m \u001b[32m━━━━━━━━━━━━━━━━━━━━\u001b[0m\u001b[37m\u001b[0m \u001b[1m0s\u001b[0m 4ms/step - accuracy: 0.6894 - loss: 0.6149 - val_accuracy: 0.6562 - val_loss: 0.6693\n",
            "Epoch 23/50\n",
            "\u001b[1m20/20\u001b[0m \u001b[32m━━━━━━━━━━━━━━━━━━━━\u001b[0m\u001b[37m\u001b[0m \u001b[1m0s\u001b[0m 4ms/step - accuracy: 0.7008 - loss: 0.6002 - val_accuracy: 0.6500 - val_loss: 0.6742\n",
            "Epoch 24/50\n",
            "\u001b[1m20/20\u001b[0m \u001b[32m━━━━━━━━━━━━━━━━━━━━\u001b[0m\u001b[37m\u001b[0m \u001b[1m0s\u001b[0m 4ms/step - accuracy: 0.6755 - loss: 0.5992 - val_accuracy: 0.6500 - val_loss: 0.6728\n",
            "Epoch 25/50\n",
            "\u001b[1m20/20\u001b[0m \u001b[32m━━━━━━━━━━━━━━━━━━━━\u001b[0m\u001b[37m\u001b[0m \u001b[1m0s\u001b[0m 4ms/step - accuracy: 0.7030 - loss: 0.5965 - val_accuracy: 0.6562 - val_loss: 0.6775\n",
            "Epoch 26/50\n",
            "\u001b[1m20/20\u001b[0m \u001b[32m━━━━━━━━━━━━━━━━━━━━\u001b[0m\u001b[37m\u001b[0m \u001b[1m0s\u001b[0m 4ms/step - accuracy: 0.6982 - loss: 0.6015 - val_accuracy: 0.6562 - val_loss: 0.6808\n",
            "Epoch 27/50\n",
            "\u001b[1m20/20\u001b[0m \u001b[32m━━━━━━━━━━━━━━━━━━━━\u001b[0m\u001b[37m\u001b[0m \u001b[1m0s\u001b[0m 5ms/step - accuracy: 0.7184 - loss: 0.5647 - val_accuracy: 0.6500 - val_loss: 0.6824\n",
            "Epoch 28/50\n",
            "\u001b[1m20/20\u001b[0m \u001b[32m━━━━━━━━━━━━━━━━━━━━\u001b[0m\u001b[37m\u001b[0m \u001b[1m0s\u001b[0m 4ms/step - accuracy: 0.7127 - loss: 0.5813 - val_accuracy: 0.6500 - val_loss: 0.6773\n",
            "Epoch 29/50\n",
            "\u001b[1m20/20\u001b[0m \u001b[32m━━━━━━━━━━━━━━━━━━━━\u001b[0m\u001b[37m\u001b[0m \u001b[1m0s\u001b[0m 4ms/step - accuracy: 0.7121 - loss: 0.5826 - val_accuracy: 0.6500 - val_loss: 0.6776\n",
            "Epoch 30/50\n",
            "\u001b[1m20/20\u001b[0m \u001b[32m━━━━━━━━━━━━━━━━━━━━\u001b[0m\u001b[37m\u001b[0m \u001b[1m0s\u001b[0m 4ms/step - accuracy: 0.7035 - loss: 0.5890 - val_accuracy: 0.6500 - val_loss: 0.6769\n",
            "Epoch 31/50\n",
            "\u001b[1m20/20\u001b[0m \u001b[32m━━━━━━━━━━━━━━━━━━━━\u001b[0m\u001b[37m\u001b[0m \u001b[1m0s\u001b[0m 4ms/step - accuracy: 0.7161 - loss: 0.5762 - val_accuracy: 0.6500 - val_loss: 0.6780\n",
            "Epoch 32/50\n",
            "\u001b[1m20/20\u001b[0m \u001b[32m━━━━━━━━━━━━━━━━━━━━\u001b[0m\u001b[37m\u001b[0m \u001b[1m0s\u001b[0m 4ms/step - accuracy: 0.7329 - loss: 0.5594 - val_accuracy: 0.6500 - val_loss: 0.6802\n",
            "Epoch 33/50\n",
            "\u001b[1m20/20\u001b[0m \u001b[32m━━━━━━━━━━━━━━━━━━━━\u001b[0m\u001b[37m\u001b[0m \u001b[1m0s\u001b[0m 4ms/step - accuracy: 0.7179 - loss: 0.5689 - val_accuracy: 0.6500 - val_loss: 0.6799\n",
            "Epoch 34/50\n",
            "\u001b[1m20/20\u001b[0m \u001b[32m━━━━━━━━━━━━━━━━━━━━\u001b[0m\u001b[37m\u001b[0m \u001b[1m0s\u001b[0m 5ms/step - accuracy: 0.7082 - loss: 0.5704 - val_accuracy: 0.6500 - val_loss: 0.6838\n",
            "Epoch 35/50\n",
            "\u001b[1m20/20\u001b[0m \u001b[32m━━━━━━━━━━━━━━━━━━━━\u001b[0m\u001b[37m\u001b[0m \u001b[1m0s\u001b[0m 5ms/step - accuracy: 0.6972 - loss: 0.5816 - val_accuracy: 0.6500 - val_loss: 0.6872\n",
            "Epoch 36/50\n",
            "\u001b[1m20/20\u001b[0m \u001b[32m━━━━━━━━━━━━━━━━━━━━\u001b[0m\u001b[37m\u001b[0m \u001b[1m0s\u001b[0m 6ms/step - accuracy: 0.7176 - loss: 0.5859 - val_accuracy: 0.6500 - val_loss: 0.6863\n",
            "Epoch 37/50\n",
            "\u001b[1m20/20\u001b[0m \u001b[32m━━━━━━━━━━━━━━━━━━━━\u001b[0m\u001b[37m\u001b[0m \u001b[1m0s\u001b[0m 4ms/step - accuracy: 0.7160 - loss: 0.5867 - val_accuracy: 0.6500 - val_loss: 0.6857\n",
            "Epoch 38/50\n",
            "\u001b[1m20/20\u001b[0m \u001b[32m━━━━━━━━━━━━━━━━━━━━\u001b[0m\u001b[37m\u001b[0m \u001b[1m0s\u001b[0m 4ms/step - accuracy: 0.7149 - loss: 0.5813 - val_accuracy: 0.6500 - val_loss: 0.6867\n",
            "Epoch 39/50\n",
            "\u001b[1m20/20\u001b[0m \u001b[32m━━━━━━━━━━━━━━━━━━━━\u001b[0m\u001b[37m\u001b[0m \u001b[1m0s\u001b[0m 4ms/step - accuracy: 0.6924 - loss: 0.5990 - val_accuracy: 0.6500 - val_loss: 0.6889\n",
            "Epoch 40/50\n",
            "\u001b[1m20/20\u001b[0m \u001b[32m━━━━━━━━━━━━━━━━━━━━\u001b[0m\u001b[37m\u001b[0m \u001b[1m0s\u001b[0m 4ms/step - accuracy: 0.7286 - loss: 0.5743 - val_accuracy: 0.6500 - val_loss: 0.6899\n",
            "Epoch 41/50\n",
            "\u001b[1m20/20\u001b[0m \u001b[32m━━━━━━━━━━━━━━━━━━━━\u001b[0m\u001b[37m\u001b[0m \u001b[1m0s\u001b[0m 4ms/step - accuracy: 0.7094 - loss: 0.5841 - val_accuracy: 0.6500 - val_loss: 0.6891\n",
            "Epoch 42/50\n",
            "\u001b[1m20/20\u001b[0m \u001b[32m━━━━━━━━━━━━━━━━━━━━\u001b[0m\u001b[37m\u001b[0m \u001b[1m0s\u001b[0m 4ms/step - accuracy: 0.7073 - loss: 0.5795 - val_accuracy: 0.6500 - val_loss: 0.6935\n",
            "Epoch 43/50\n",
            "\u001b[1m20/20\u001b[0m \u001b[32m━━━━━━━━━━━━━━━━━━━━\u001b[0m\u001b[37m\u001b[0m \u001b[1m0s\u001b[0m 5ms/step - accuracy: 0.7323 - loss: 0.5641 - val_accuracy: 0.6500 - val_loss: 0.6911\n",
            "Epoch 44/50\n",
            "\u001b[1m20/20\u001b[0m \u001b[32m━━━━━━━━━━━━━━━━━━━━\u001b[0m\u001b[37m\u001b[0m \u001b[1m0s\u001b[0m 5ms/step - accuracy: 0.6991 - loss: 0.5790 - val_accuracy: 0.6438 - val_loss: 0.6915\n",
            "Epoch 45/50\n",
            "\u001b[1m20/20\u001b[0m \u001b[32m━━━━━━━━━━━━━━━━━━━━\u001b[0m\u001b[37m\u001b[0m \u001b[1m0s\u001b[0m 4ms/step - accuracy: 0.7361 - loss: 0.5613 - val_accuracy: 0.6438 - val_loss: 0.6925\n",
            "Epoch 46/50\n",
            "\u001b[1m20/20\u001b[0m \u001b[32m━━━━━━━━━━━━━━━━━━━━\u001b[0m\u001b[37m\u001b[0m \u001b[1m0s\u001b[0m 4ms/step - accuracy: 0.7222 - loss: 0.5779 - val_accuracy: 0.6438 - val_loss: 0.6927\n",
            "Epoch 47/50\n",
            "\u001b[1m20/20\u001b[0m \u001b[32m━━━━━━━━━━━━━━━━━━━━\u001b[0m\u001b[37m\u001b[0m \u001b[1m0s\u001b[0m 3ms/step - accuracy: 0.7305 - loss: 0.5720 - val_accuracy: 0.6438 - val_loss: 0.6976\n",
            "Epoch 48/50\n",
            "\u001b[1m20/20\u001b[0m \u001b[32m━━━━━━━━━━━━━━━━━━━━\u001b[0m\u001b[37m\u001b[0m \u001b[1m0s\u001b[0m 4ms/step - accuracy: 0.7230 - loss: 0.5735 - val_accuracy: 0.6500 - val_loss: 0.6962\n",
            "Epoch 49/50\n",
            "\u001b[1m20/20\u001b[0m \u001b[32m━━━━━━━━━━━━━━━━━━━━\u001b[0m\u001b[37m\u001b[0m \u001b[1m0s\u001b[0m 4ms/step - accuracy: 0.7164 - loss: 0.5642 - val_accuracy: 0.6438 - val_loss: 0.6940\n",
            "Epoch 50/50\n",
            "\u001b[1m20/20\u001b[0m \u001b[32m━━━━━━━━━━━━━━━━━━━━\u001b[0m\u001b[37m\u001b[0m \u001b[1m0s\u001b[0m 4ms/step - accuracy: 0.7016 - loss: 0.5784 - val_accuracy: 0.6500 - val_loss: 0.6933\n"
          ]
        },
        {
          "output_type": "display_data",
          "data": {
            "text/plain": [
              "<Figure size 1000x600 with 1 Axes>"
            ],
            "image/png": "[encoded data removed]"
          },
          "metadata": {}
        }
      ]
    },
    {
      "cell_type": "markdown",
      "source": [
        "**Purpose:** To create a multilayer perceptron (MLP) model for a binary classification task (predicting high-value transactions).\n",
        "\n",
        "**Model structure:**\n",
        "\n",
        "* Input layer: accepts the input of the number of features (input_dim).\n",
        "\n",
        "* Hidden Layer: contains three layers with 64, 32 and 16 neurons with an activation function of ReLU with 20% Dropout.\n",
        "\n",
        "* Output layer: one neuron with Sigmoid activation function and output in the range [0,1] for probabilistic prediction.\n",
        "\n",
        "* Compilation: using Adam optimizer and binary_crossentropy as loss function and accuracy as evaluation metric.\n",
        "\n",
        "**Visualization Output:**\n",
        "* Gender has the highest mean imputation value of about 0.06, indicating that it is the feature that has the greatest impact on model predictions.\n",
        "Age is the second most important feature with a slightly lower mean imputation value than gender at about 0.048, showing a significant contribution to the predictions.\n",
        "* The higher importance of gender and age may be due to the strong relevance of these characteristics for high-value transactions in certain consumer behavior patterns. For example, customers of different genders or ages may have different consumption preferences and purchasing power, which affects the model's predictions."
      ],
      "metadata": {
        "id": "TSMPQbOJ0gM3"
      }
    },
    {
      "cell_type": "code",
      "source": [
        "# Training Visualization\n",
        "plt.figure(figsize=(12, 4))\n",
        "plt.subplot(1, 2, 1)\n",
        "plt.plot(history.history['loss'], label='Training Loss')\n",
        "plt.plot(history.history['val_loss'], label='Validation Loss')\n",
        "plt.title('Model Loss')\n",
        "plt.xlabel('Epoch')\n",
        "plt.ylabel('Loss')\n",
        "plt.legend()\n",
        "\n",
        "plt.subplot(1, 2, 2)\n",
        "plt.plot(history.history['accuracy'], label='Training Accuracy')\n",
        "plt.plot(history.history['val_accuracy'], label='Validation Accuracy')\n",
        "plt.title('Model Accuracy')\n",
        "plt.xlabel('Epoch')\n",
        "plt.ylabel('Accuracy')\n",
        "plt.legend()\n",
        "plt.tight_layout()\n",
        "plt.show()"
      ],
      "metadata": {
        "colab": {
          "base_uri": "https://localhost:8080/",
          "height": 427
        },
        "id": "0BjUJqPJsV6V",
        "outputId": "fbd9e792-be3e-40d0-abdd-a03837ae37ce"
      },
      "execution_count": null,
      "outputs": [
        {
          "output_type": "display_data",
          "data": {
            "text/plain": [
              "<Figure size 1200x400 with 2 Axes>"
            ],
            "image/png": "[encoded data removed]"
          },
          "metadata": {}
        }
      ]
    },
    {
      "cell_type": "markdown",
      "source": [
        "**Visualization Output:**\n",
        "\n",
        "This output contains graphs of **loss** and **accuracy** during model training, which are used to analyze the performance of the training and validation sets, respectively\n",
        "\n",
        "**Model Loss:**\n",
        "*   Blue curve (Training Loss):\n",
        "From the figure, we can see that the training loss is continuously\n",
        "decreasing, indicating that the model's fit on the training data is improving.\n",
        "The loss value starts at 0.68 and gradually decreases to around 0.58, indicating that the model is learning and adjusting in each training cycle.\n",
        "*   Orange curve (Validation Loss): The validation loss decreases slightly in the initial rounds but quickly levels off and trends upward, indicating instability in the model's performance on the validation set. Additionally, the overall trend of the validation loss is higher than the training loss, suggesting potential overfitting on the training set, which leads to poorer performance on the validation set.\n",
        "\n",
        "**Model Accuracy:**\n",
        "* Blue curve (Training Accuracy): The accuracy rises rapidly in the first few rounds, from 0.60 to about 0.72, and remains relatively stable in subsequent training cycles. This indicates that the model is increasingly able to correctly classify high-value trades on the training set and reaches a steady state.\n",
        "* Orange curve (Validation Accuracy): The validation accuracy stabilizes around 0.66 after an initial rise in the first few rounds, and does not improve with increasing training cycles.\n",
        "This situation indicates that the generalization ability of the model on the validation set is limited and not further improved.\n",
        "\n",
        "**Summarize:**\n",
        "\n",
        "The trends in loss and accuracy show that the model performs much better on the training set than on the validation set, and the validation loss rises slightly, which indicates that the model is overfitting on the training set. The training loss and accuracy of the model leveled off after a certain number of rounds, indicating that the model has reached a relatively stable learning state on the training set."
      ],
      "metadata": {
        "id": "aGNFo_6M5IcT"
      }
    },
    {
      "cell_type": "markdown",
      "source": [
        "# Statistical Testing"
      ],
      "metadata": {
        "id": "zw3UhqaS8IkI"
      }
    },
    {
      "cell_type": "markdown",
      "source": [
        "A statistical test of the model's attribution of features compares the importance of different features (especially the “Age” feature) on the model's predictions. Specifically, t-tests were conducted to analyze whether there were significant differences between the model attributions for the “Age” feature and other features."
      ],
      "metadata": {
        "id": "x8lthnI2umsE"
      }
    },
    {
      "cell_type": "code",
      "source": [
        "# Converts imputations of input features into NumPy arrays for statistical calculations.\n",
        "def statistical_test(attributions, age_idx, feature_columns):\n",
        "    from scipy import stats\n",
        "\n",
        "    attributions = np.array(attributions)\n",
        "    age_attributions = attributions[:, age_idx]\n",
        "    other_attributions = attributions[:, [i for i in range(attributions.shape[1]) if i != age_idx]]\n",
        "\n",
        "    results = []\n",
        "    # A two independent samples t-test was conducted to test the attribution of the “Age” feature against the attribution of the other features.\n",
        "    for i in range(other_attributions.shape[1]):\n",
        "        feature = feature_columns[i if i < age_idx else i + 1]\n",
        "        t_stat, p_val = stats.ttest_ind(np.abs(age_attributions),\n",
        "                                      np.abs(other_attributions[:, i]))\n",
        "        results.append({\n",
        "            'Feature': feature,\n",
        "            't_statistic': t_stat,\n",
        "            'p_value': p_val\n",
        "        })\n",
        "\n",
        "    return pd.DataFrame(results)\n",
        "# The index of the “Age” feature in the feature list is passed into the statistical test function for comparison of feature attribution.\n",
        "age_idx = feature_columns.index('Age')\n",
        "test_results = statistical_test(attributions, age_idx, feature_columns)\n",
        "print(\"\\nStatistical Test Results:\")\n",
        "print(test_results)"
      ],
      "metadata": {
        "colab": {
          "base_uri": "https://localhost:8080/"
        },
        "id": "Hh68xInDS0ul",
        "outputId": "0e0ccb01-2796-4e6f-b233-82a902697cf8"
      },
      "execution_count": null,
      "outputs": [
        {
          "output_type": "stream",
          "name": "stdout",
          "text": [
            "\n",
            "Statistical Test Results:\n",
            "            Feature  t_statistic   p_value\n",
            "0            Gender    -0.820534  0.412403\n",
            "1  Product_Category     2.761402  0.006022\n",
            "2             Month    -0.701120  0.483638\n",
            "3         DayOfWeek     0.611733  0.541064\n"
          ]
        }
      ]
    },
    {
      "cell_type": "markdown",
      "source": [
        "**Output:** Shows the results of a t-test comparing the attributional differences between the “Age” feature and the other features in the model. The results include t-statistics and p-values for each feature.\n",
        "*   The only feature that has a significant attributional difference from the “Age” feature is Product_Category (p-value 0.006), which indicates that this feature has a significantly higher predictive impact than “Age” in the model.\n",
        "*   For the other features (Gender, Month, DayOfWeek), the attribution differences with the “Age” feature are not significant, indicating that the model assigns similar weights to these features.\n",
        "\n"
      ],
      "metadata": {
        "id": "CdLBjbcevlUA"
      }
    },
    {
      "cell_type": "markdown",
      "source": [
        "# Results Summary"
      ],
      "metadata": {
        "id": "i76jKmHgwbsu"
      }
    },
    {
      "cell_type": "markdown",
      "source": [
        "Summarizes the model performance, feature importance and statistical test results, and draws conclusions on hypothesis testing based on the experimental results. It is divided into four parts: model performance, feature importance, statistical tests, and hypothesis testing conclusions"
      ],
      "metadata": {
        "id": "nevyClZNxX9H"
      }
    },
    {
      "cell_type": "code",
      "source": [
        "def summarize_results(model, X_test, y_test, importance_df, test_results, history):\n",
        "    # Model Performance\n",
        "    print(\"=\"*50)\n",
        "    print(\"MODEL PERFORMANCE\")\n",
        "    print(\"=\"*50)\n",
        "    test_loss, test_accuracy = model.evaluate(X_test, y_test, verbose=0)\n",
        "    print(f\"Test Accuracy: {test_accuracy:.4f}\")\n",
        "    print(f\"Final Training Accuracy: {history.history['accuracy'][-1]:.4f}\")\n",
        "    print(f\"Final Validation Accuracy: {history.history['val_accuracy'][-1]:.4f}\")\n",
        "\n",
        "    # Feature Importance\n",
        "    print(\"\\n\" + \"=\"*50)\n",
        "    print(\"FEATURE IMPORTANCE\")\n",
        "    print(\"=\"*50)\n",
        "    # Sort features by importance\n",
        "    importance_df_sorted = importance_df.sort_values('Importance', ascending=False)\n",
        "    print(\"Features ranked by importance:\")\n",
        "    for idx, row in importance_df_sorted.iterrows():\n",
        "        print(f\"{row['Feature']}: {row['Importance']:.4f}\")\n",
        "\n",
        "    # Statistical Testing\n",
        "    print(\"\\n\" + \"=\"*50)\n",
        "    print(\"STATISTICAL TESTING\")\n",
        "    print(\"=\"*50)\n",
        "    print(\"Comparing Age feature with others:\")\n",
        "    significant_features = test_results[test_results['p_value'] < 0.05]\n",
        "\n",
        "    print(f\"\\nFeatures significantly different from Age (p < 0.05):\")\n",
        "    for idx, row in significant_features.iterrows():\n",
        "        print(f\"- {row['Feature']}: t-stat = {row['t_statistic']:.4f}, p-value = {row['p_value']:.4f}\")\n",
        "\n",
        "    # Hypothesis Testing Conclusion\n",
        "    print(\"\\n\" + \"=\"*50)\n",
        "    print(\"HYPOTHESIS TESTING CONCLUSION\")\n",
        "    print(\"=\"*50)\n",
        "    if len(significant_features) > 0:\n",
        "        print(\"Reject H0: The deep neural network shows significantly different attention weights\")\n",
        "        print(\"for age features compared to some other features.\")\n",
        "    else:\n",
        "        print(\"Fail to reject H0: No significant evidence that the deep neural network shows\")\n",
        "        print(\"different attention weights for age features compared to other features.\")\n",
        "\n",
        "# Run the summary\n",
        "summarize_results(model, X_test, y_test, importance_df, test_results, history)"
      ],
      "metadata": {
        "colab": {
          "base_uri": "https://localhost:8080/"
        },
        "id": "4kuMq5uCTYvD",
        "outputId": "38560465-80bc-4d09-db3a-6cf4252bafdb"
      },
      "execution_count": null,
      "outputs": [
        {
          "output_type": "stream",
          "name": "stdout",
          "text": [
            "==================================================\n",
            "MODEL PERFORMANCE\n",
            "==================================================\n",
            "Test Accuracy: 0.6800\n",
            "Final Training Accuracy: 0.7109\n",
            "Final Validation Accuracy: 0.6500\n",
            "\n",
            "==================================================\n",
            "FEATURE IMPORTANCE\n",
            "==================================================\n",
            "Features ranked by importance:\n",
            "Month: 0.0544\n",
            "Gender: 0.0542\n",
            "Age: 0.0507\n",
            "DayOfWeek: 0.0477\n",
            "Product_Category: 0.0377\n",
            "\n",
            "==================================================\n",
            "STATISTICAL TESTING\n",
            "==================================================\n",
            "Comparing Age feature with others:\n",
            "\n",
            "Features significantly different from Age (p < 0.05):\n",
            "- Product_Category: t-stat = 2.7614, p-value = 0.0060\n",
            "\n",
            "==================================================\n",
            "HYPOTHESIS TESTING CONCLUSION\n",
            "==================================================\n",
            "Reject H0: The deep neural network shows significantly different attention weights\n",
            "for age features compared to some other features.\n"
          ]
        }
      ]
    },
    {
      "cell_type": "markdown",
      "source": [
        "**Model Performance:**\n",
        "\n",
        "* The accuracy of the test and validation sets is lower than the training set, indicating that the generalization ability of the model is more limited and may need further optimization.\n",
        "\n",
        "**Feature Importance:**\n",
        "* Among all the features, “Month” and “Gender” are the most concerned features in the model, while “Product_Category” is the least important feature in the model. Product_Category” is the least important feature in the model.\n",
        "* The feature importance analysis shows that time and demographic features have the greatest impact on the prediction of high-value transactions, while product category has a lesser impact.\n",
        "\n",
        "**Statistical Test Results:**\n",
        "\n",
        "* Product_Category: The t-statistic is 2.7614 and the p-value is 0.0060.The p-value is less than 0.05, which means that the attribution of “Product_Category” is significantly higher than that of “Age”.\n",
        "* Explanation: In the model, the “Product_Category” feature has a significantly higher impact on the model output than the “Age” feature.\n",
        "\n",
        "**Conclusion of Hypothesis Testing:**\n",
        "\n",
        "* **The original hypothesis (H0) is rejected** because there exists a feature (“Product_Category”) that has significantly higher attribution in the model than the “Age” feature.\n",
        "* Interpretation: This indicates that the deep neural networks have significantly different attentional weights on certain features, especially on “Product_Category”."
      ],
      "metadata": {
        "id": "YTQ6ENca0-su"
      }
    },
    {
      "cell_type": "markdown",
      "source": [
        "# Reference\n",
        "1. Talib, Mohammad. “Retail Sales Dataset.” Kaggle, 22 Aug. 2023, www.kaggle.com/datasets/mohammadtalib786/retail-sales-dataset. Accessed 24 Oct. 2024.\n",
        "2. Ankurtaly. “https://github.com/ankurtaly/Integrated-Gradients/blob/master/IntegratedGradients/integrated_gradients.py” GitHub Accessed 24 Oct. 2024.\n",
        "3. AIPI-590-XAI. “Duke-Ai-Xai/Explainable-Ml-Example-Notebooks/Testing_concept_activation_vectors.Ipynb at Main · AIPI-590-Xai/Duke-Ai-Xai.” GitHub, https://github.com/AIPI-590-XAI/Duke-AI-XAI/blob/main/explainable-ml-example-notebooks/testing_concept_activation_vectors.ipynb\n",
        " Accessed 24 Oct. 2024.\n",
        "4.Chatgpt. Explanation of Python code for models"
      ],
      "metadata": {
        "id": "S_KaGNamvrpR"
      }
    }
  ],
  "metadata": {
    "language_info": {
      "name": "python"
    },
    "colab": {
      "provenance": [],
      "include_colab_link": true
    },
    "kernelspec": {
      "name": "python3",
      "display_name": "Python 3"
    }
  },
  "nbformat": 4,
  "nbformat_minor": 0
}
